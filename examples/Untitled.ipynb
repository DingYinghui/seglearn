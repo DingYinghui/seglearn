{
 "cells": [
  {
   "cell_type": "code",
   "execution_count": 1,
   "metadata": {},
   "outputs": [],
   "source": [
    "from seglearn.features import SegFeatures, mean, var, std, mean_crossings, skew\n",
    "from seglearn.pipe import SegPipe\n",
    "from seglearn.segment import Segment\n",
    "\n",
    "import numpy as np\n",
    "from sklearn.pipeline import Pipeline\n",
    "from sklearn.ensemble import RandomForestClassifier\n",
    "from sklearn.model_selection import cross_validate, GridSearchCV\n",
    "import matplotlib.pyplot as plt"
   ]
  },
  {
   "cell_type": "code",
   "execution_count": 2,
   "metadata": {},
   "outputs": [
    {
     "name": "stdout",
     "output_type": "stream",
     "text": [
      "dict_keys(['X_labels', 'y_labels', 'y', 'subject', 'side', 'X'])\n",
      "['mnx_0', 'mnx_1', 'mnx_2', 'mnx_3', 'mnx_4', 'mnx_5', 'mean_0', 'mean_1', 'mean_2', 'mean_3', 'mean_4', 'mean_5', 'std_0', 'std_1', 'std_2', 'std_3', 'std_4', 'std_5', 'var_0', 'var_1', 'var_2', 'var_3', 'var_4', 'var_5']\n",
      "0.9991447509087021\n"
     ]
    }
   ],
   "source": [
    "data = np.load('../data/watch_dataset.npy').item()\n",
    "print(data.keys())\n",
    "\n",
    "fts = {'mn': mean,\n",
    "      'var': var,\n",
    "      'std': std,\n",
    "      'mnx': mean_crossings,\n",
    "      'skew': skew}\n",
    "\n",
    "feed = Pipeline([('segment', Segment()),('features', SegFeatures())])\n",
    "est = RandomForestClassifier()\n",
    "pipe = SegPipe(feed, est)\n",
    "y = data['y']\n",
    "X = data['X']\n",
    "\n",
    "pipe.fit(X, y)\n",
    "print(pipe.f_labels)\n",
    "ye, yp = pipe.predict(X, data['y'])\n",
    "print(pipe.score(X, data['y']))"
   ]
  },
  {
   "cell_type": "code",
   "execution_count": 3,
   "metadata": {},
   "outputs": [
    {
     "data": {
      "text/plain": [
       "array([0., 0.])"
      ]
     },
     "execution_count": 3,
     "metadata": {},
     "output_type": "execute_result"
    }
   ],
   "source": [
    "(fts['mn'])(np.array([[1,2,3,4],[4,5,6,7]])).shape\n",
    "fshapes = np.zeros((10, 2))\n",
    "fshapes[0]"
   ]
  },
  {
   "cell_type": "code",
   "execution_count": null,
   "metadata": {},
   "outputs": [],
   "source": []
  }
 ],
 "metadata": {
  "kernelspec": {
   "display_name": "Python 3",
   "language": "python",
   "name": "python3"
  },
  "language_info": {
   "codemirror_mode": {
    "name": "ipython",
    "version": 3
   },
   "file_extension": ".py",
   "mimetype": "text/x-python",
   "name": "python",
   "nbconvert_exporter": "python",
   "pygments_lexer": "ipython3",
   "version": "3.5.2"
  }
 },
 "nbformat": 4,
 "nbformat_minor": 2
}
