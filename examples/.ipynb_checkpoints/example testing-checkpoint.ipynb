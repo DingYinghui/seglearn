{
 "cells": [
  {
   "cell_type": "code",
   "execution_count": 1,
   "metadata": {},
   "outputs": [],
   "source": [
    "from seglearn.features import SegFeatures, all_features, corr2\n",
    "from seglearn.pipe import SegPipe\n",
    "from seglearn.segment import Segment\n",
    "from seglearn.datasets import load_watch\n",
    "from seglearn.util import make_ts_data\n",
    "\n",
    "import numpy as np\n",
    "from sklearn.pipeline import Pipeline\n",
    "from sklearn.ensemble import RandomForestClassifier\n",
    "from sklearn.model_selection import cross_validate, GridSearchCV\n",
    "import matplotlib.pyplot as plt"
   ]
  },
  {
   "cell_type": "code",
   "execution_count": 2,
   "metadata": {},
   "outputs": [
    {
     "name": "stdout",
     "output_type": "stream",
     "text": [
      "dict_keys(['subject', 'y', 'side', 'y_labels', 'X_labels', 'X'])\n",
      "['max_0', 'max_1', 'max_2', 'max_3', 'max_4', 'max_5', 'mean_0', 'mean_1', 'mean_2', 'mean_3', 'mean_4', 'mean_5', 'hist4_0', 'hist4_1', 'hist4_2', 'hist4_3', 'hist4_4', 'hist4_5', 'hist4_6', 'hist4_7', 'hist4_8', 'hist4_9', 'hist4_10', 'hist4_11', 'hist4_12', 'hist4_13', 'hist4_14', 'hist4_15', 'hist4_16', 'hist4_17', 'hist4_18', 'hist4_19', 'hist4_20', 'hist4_21', 'hist4_22', 'hist4_23', 'var_0', 'var_1', 'var_2', 'var_3', 'var_4', 'var_5', 'skew_0', 'skew_1', 'skew_2', 'skew_3', 'skew_4', 'skew_5', 'mnx_0', 'mnx_1', 'mnx_2', 'mnx_3', 'mnx_4', 'mnx_5', 'min_0', 'min_1', 'min_2', 'min_3', 'min_4', 'min_5', 'kurt_0', 'kurt_1', 'kurt_2', 'kurt_3', 'kurt_4', 'kurt_5', 'corr_0', 'corr_1', 'corr_2', 'corr_3', 'corr_4', 'corr_5', 'corr_6', 'corr_7', 'corr_8', 'corr_9', 'corr_10', 'corr_11', 'corr_12', 'corr_13', 'corr_14', 'std_0', 'std_1', 'std_2', 'std_3', 'std_4', 'std_5', 'mse_0', 'mse_1', 'mse_2', 'mse_3', 'mse_4', 'mse_5']\n",
      "Xshape:  (4677, 93)\n",
      "yshape:  (4677,)\n",
      "0.9993585631815266\n"
     ]
    }
   ],
   "source": [
    "data = load_watch()\n",
    "print(data.keys())\n",
    "\n",
    "fts = all_features()\n",
    "\n",
    "feed = Pipeline([('segment', Segment()),('features', SegFeatures(fts))])\n",
    "est = RandomForestClassifier()\n",
    "pipe = SegPipe(feed, est)\n",
    "y = data['y']\n",
    "X = make_ts_data(data['X'])\n",
    "\n",
    "pipe.fit(X, y)\n",
    "print(pipe.f_labels)\n",
    "ye, yp = pipe.predict(X, data['y'])\n",
    "print(pipe.score(X, data['y']))"
   ]
  },
  {
   "cell_type": "code",
   "execution_count": 3,
   "metadata": {},
   "outputs": [
    {
     "name": "stdout",
     "output_type": "stream",
     "text": [
      "{'total': {'Series_Time_Range': (18.94, 52.36), 'n_TS_vars': 6, 'Series_Time_Mean': 34.87171428571428, 'n_static_vars': 0, 'Series_Time_Std': 8.757850351285423, 'n_series': 140, 'Total_time': 4882.04, 'n_classes': 7}, 'by_class': {'Class_labels': array([0, 1, 2, 3, 4, 5, 6]), 'Series_Time_Mean': array([26.622, 39.905, 40.498, 37.395, 37.604, 30.578, 31.5  ]), 'Series_Time_Std': array([2.72084472, 8.0555543 , 8.77209872, 9.08521189, 7.98387775,\n",
      "       6.09925209, 5.95709997]), 'Total_Time': array([532.44, 798.1 , 809.96, 747.9 , 752.08, 611.56, 630.  ]), 'Series_Time_Max': array([31.1 , 49.1 , 50.84, 52.36, 49.24, 45.12, 38.66]), 'Series_Time_Min': array([21.28, 22.48, 22.3 , 19.4 , 21.3 , 19.26, 18.94]), 'n_series': array([20, 20, 20, 20, 20, 20, 20])}}\n",
      "['skew_0', 'skew_1', 'skew_2', 'skew_3', 'skew_4', 'skew_5', 'mean_0', 'mean_1', 'mean_2', 'mean_3', 'mean_4', 'mean_5', 'var_0', 'var_1', 'var_2', 'var_3', 'var_4', 'var_5', 'std_0', 'std_1', 'std_2', 'std_3', 'std_4', 'std_5']\n",
      "Xshape:  (4677, 24)\n",
      "yshape:  (4677,)\n",
      "0.9991447509087021\n"
     ]
    }
   ],
   "source": [
    "from seglearn.features import SegFeatures, mean, var, std, skew\n",
    "from seglearn.pipe import SegPipe\n",
    "from seglearn.segment import Segment\n",
    "from seglearn.datasets import load_watch\n",
    "from seglearn.util import check_ts_data, ts_stats\n",
    "from sklearn.pipeline import Pipeline\n",
    "from sklearn.ensemble import RandomForestClassifier\n",
    "import numpy as np\n",
    "data = load_watch()\n",
    "\n",
    "y = data['y']\n",
    "X = make_ts_data(data['X'])\n",
    "\n",
    "check_ts_data(X)\n",
    "print(ts_stats(X, y, fs=50))\n",
    "\n",
    "fts = {'mean': mean, 'var': var, 'std': std, 'skew': skew}\n",
    "feed = Pipeline([('segment', Segment()),('features', SegFeatures(fts))])\n",
    "est = RandomForestClassifier()\n",
    "pipe = SegPipe(feed, est)\n",
    "\n",
    "\n",
    "pipe.fit(X, y)\n",
    "print(pipe.f_labels)\n",
    "print(pipe.score(X, y))\n",
    "      "
   ]
  },
  {
   "cell_type": "code",
   "execution_count": 4,
   "metadata": {},
   "outputs": [
    {
     "name": "stdout",
     "output_type": "stream",
     "text": [
      "{'total': {'Series_Time_Range': (947.0, 2618.0), 'n_TS_vars': 1, 'Series_Time_Mean': 1743.5857142857142, 'n_static_vars': 0, 'Series_Time_Std': 437.89251756427115, 'n_series': 140, 'Total_time': 244102.0, 'n_classes': 7}, 'by_class': {'Class_labels': array([0, 1, 2, 3, 4, 5, 6]), 'Series_Time_Mean': array([1331.1 , 1995.25, 2024.9 , 1869.75, 1880.2 , 1528.9 , 1575.  ]), 'Series_Time_Std': array([136.04223609, 402.77771475, 438.60493613, 454.26059426,\n",
      "       399.19388773, 304.96260426, 297.85499828]), 'Total_Time': array([26622., 39905., 40498., 37395., 37604., 30578., 31500.]), 'Series_Time_Max': array([1555., 2455., 2542., 2618., 2462., 2256., 1933.]), 'Series_Time_Min': array([1064., 1124., 1115.,  970., 1065.,  963.,  947.]), 'n_series': array([20, 20, 20, 20, 20, 20, 20])}}\n",
      "['mean_0']\n",
      "Xshape:  (4677, 1)\n",
      "yshape:  (4677,)\n",
      "0.93863587769938\n"
     ]
    }
   ],
   "source": [
    "# univariate time series test and univariate feature test\n",
    "\n",
    "def uv(X):\n",
    "    X_new = [X[i][:,0] for i in np.arange(len(X))]\n",
    "    return X_new\n",
    "data = load_watch()\n",
    "\n",
    "Xuv = uv(data['X'])\n",
    "Xuv = make_ts_data(Xuv)\n",
    "y = data['y']\n",
    "\n",
    "check_ts_data(Xuv)\n",
    "print(ts_stats(Xuv, y))\n",
    "\n",
    "features = all_features()\n",
    "del features['corr']\n",
    "features = {'mean':mean}\n",
    "\n",
    "feed = Pipeline([('segment', Segment()),('features', SegFeatures(features=features))])\n",
    "est = RandomForestClassifier()\n",
    "\n",
    "pipe = SegPipe(feed, est)\n",
    "pipe.fit(Xuv, y)\n",
    "print(pipe.f_labels)\n",
    "print(pipe.score(Xuv, y))\n"
   ]
  },
  {
   "cell_type": "code",
   "execution_count": 5,
   "metadata": {},
   "outputs": [
    {
     "name": "stdout",
     "output_type": "stream",
     "text": [
      "333\n",
      "560\n",
      "140\n",
      "Xshape:  (1009, 24)\n",
      "yshape:  (1009,)\n",
      "Xshape:  (3027, 24)\n",
      "yshape:  (3027,)\n",
      "Xshape:  (1009, 24)\n",
      "yshape:  (1009,)\n",
      "Xshape:  (3027, 24)\n",
      "yshape:  (3027,)\n",
      "Xshape:  (1009, 24)\n",
      "yshape:  (1009,)\n",
      "Xshape:  (3027, 24)\n",
      "yshape:  (3027,)\n",
      "Xshape:  (1009, 24)\n",
      "yshape:  (1009,)\n",
      "Xshape:  (3027, 24)\n",
      "yshape:  (3027,)\n"
     ]
    },
    {
     "name": "stderr",
     "output_type": "stream",
     "text": [
      "/home/david/.local/lib/python3.5/site-packages/sklearn/utils/deprecation.py:122: FutureWarning: You are accessing a training score ('train_score'), which will not be available by default any more in 0.21. If you need training scores, please set return_train_score=True\n",
      "  warnings.warn(*warn_args, **warn_kwargs)\n"
     ]
    },
    {
     "data": {
      "text/plain": [
       "{'fit_time': array([0.78236604, 0.76277947, 0.75409698, 0.7535131 ]),\n",
       " 'score_time': array([0.1333921 , 0.1326983 , 0.13304949, 0.13277936]),\n",
       " 'test_score': array([0.90386521, 0.94152626, 0.93557978, 0.93062438]),\n",
       " 'train_score': array([0.99933928, 0.99933928, 0.99735712, 0.99735712])}"
      ]
     },
     "execution_count": 5,
     "metadata": {},
     "output_type": "execute_result"
    }
   ],
   "source": [
    "from seglearn.split import TemporalKFold\n",
    "from seglearn.datasets import load_watch\n",
    "data = load_watch()\n",
    "y = data['y']\n",
    "X = make_ts_data(data['X'])\n",
    "splitter = TemporalKFold(n_splits=4)\n",
    "X, y, cv = splitter.split(X, y)\n",
    "\n",
    "print(len(X[0]))\n",
    "print(len(y))\n",
    "print(len(cv[0][1]))\n",
    "\n",
    "\n",
    "feed = Pipeline([('segment', Segment()),('features', SegFeatures())])\n",
    "est = RandomForestClassifier()\n",
    "pipe = SegPipe(feed, est)\n",
    "cross_validate(pipe, X, y, cv = cv)"
   ]
  },
  {
   "cell_type": "code",
   "execution_count": 10,
   "metadata": {},
   "outputs": [
    {
     "name": "stdout",
     "output_type": "stream",
     "text": [
      "{'total': {'Series_Time_Range': (947.0, 2618.0), 'n_TS_vars': 6, 'Series_Time_Mean': 1743.5857142857142, 'n_static_vars': 0, 'Series_Time_Std': 437.89251756427115, 'n_series': 140, 'Total_time': 244102.0, 'n_classes': 7}, 'by_class': {'Class_labels': array([0, 1, 2, 3, 4, 5, 6]), 'Series_Time_Mean': array([1331.1 , 1995.25, 2024.9 , 1869.75, 1880.2 , 1528.9 , 1575.  ]), 'Series_Time_Std': array([136.04223609, 402.77771475, 438.60493613, 454.26059426,\n",
      "       399.19388773, 304.96260426, 297.85499828]), 'Total_Time': array([26622., 39905., 40498., 37395., 37604., 30578., 31500.]), 'Series_Time_Max': array([1555., 2455., 2542., 2618., 2462., 2256., 1933.]), 'Series_Time_Min': array([1064., 1124., 1115.,  970., 1065.,  963.,  947.]), 'n_series': array([20, 20, 20, 20, 20, 20, 20])}}\n",
      "['mnx_0', 'mnx_1', 'mnx_2', 'mnx_3', 'mnx_4', 'mnx_5', 'mean_0', 'mean_1', 'mean_2', 'mean_3', 'mean_4', 'mean_5', 'var_0', 'var_1', 'var_2', 'var_3', 'var_4', 'var_5', 'std_0', 'std_1', 'std_2', 'std_3', 'std_4', 'std_5']\n",
      "Xshape:  (4677, 24)\n",
      "yshape:  (4677,)\n",
      "0.9985033140902287\n"
     ]
    }
   ],
   "source": [
    "Xt = data['X']\n",
    "Xs = np.column_stack([data['side'],data['subject']])\n",
    "X = make_ts_data(Xt, Xs)\n",
    "y = data['y']\n",
    "\n",
    "check_ts_data(X)\n",
    "print(ts_stats(X, y))\n",
    "\n",
    "feed = Pipeline([('segment', Segment()),('features', SegFeatures())])\n",
    "est = RandomForestClassifier()\n",
    "pipe = SegPipe(feed, est)\n",
    "pipe.fit(X, y)\n",
    "print(pipe.f_labels)\n",
    "print(pipe.score(X, y))\n",
    "\n",
    "\n",
    "\n"
   ]
  },
  {
   "cell_type": "code",
   "execution_count": 41,
   "metadata": {},
   "outputs": [
    {
     "data": {
      "text/plain": [
       "(140, 2)"
      ]
     },
     "execution_count": 41,
     "metadata": {},
     "output_type": "execute_result"
    }
   ],
   "source": [
    "Xf[:,1:Xf.shape[1]].shape"
   ]
  },
  {
   "cell_type": "code",
   "execution_count": 43,
   "metadata": {},
   "outputs": [
    {
     "data": {
      "text/plain": [
       "dtype('O')"
      ]
     },
     "execution_count": 43,
     "metadata": {},
     "output_type": "execute_result"
    }
   ],
   "source": [
    "Xf[:,0].dtype"
   ]
  },
  {
   "cell_type": "code",
   "execution_count": 50,
   "metadata": {},
   "outputs": [
    {
     "ename": "IndexError",
     "evalue": "only integers, slices (`:`), ellipsis (`...`), numpy.newaxis (`None`) and integer or boolean arrays are valid indices",
     "output_type": "error",
     "traceback": [
      "\u001b[0;31m---------------------------------------------------------------------------\u001b[0m",
      "\u001b[0;31mIndexError\u001b[0m                                Traceback (most recent call last)",
      "\u001b[0;32m<ipython-input-50-e6e0f434da52>\u001b[0m in \u001b[0;36m<module>\u001b[0;34m()\u001b[0m\n\u001b[0;32m----> 1\u001b[0;31m \u001b[0mXf\u001b[0m\u001b[0;34m[\u001b[0m\u001b[0;34m'ts'\u001b[0m\u001b[0;34m]\u001b[0m \u001b[0;34m=\u001b[0m \u001b[0mXf\u001b[0m\u001b[0;34m[\u001b[0m\u001b[0;34m:\u001b[0m\u001b[0;34m,\u001b[0m\u001b[0;36m0\u001b[0m\u001b[0;34m]\u001b[0m\u001b[0;34m\u001b[0m\u001b[0m\n\u001b[0m",
      "\u001b[0;31mIndexError\u001b[0m: only integers, slices (`:`), ellipsis (`...`), numpy.newaxis (`None`) and integer or boolean arrays are valid indices"
     ]
    }
   ],
   "source": [
    "Xf['ts'] = Xf[:,0]"
   ]
  },
  {
   "cell_type": "code",
   "execution_count": 5,
   "metadata": {},
   "outputs": [
    {
     "data": {
      "text/plain": [
       "0"
      ]
     },
     "execution_count": 5,
     "metadata": {},
     "output_type": "execute_result"
    }
   ],
   "source": [
    "data = load_watch()\n",
    "len(data['y'])\n",
    "data['y'][0]"
   ]
  },
  {
   "cell_type": "code",
   "execution_count": null,
   "metadata": {},
   "outputs": [],
   "source": []
  },
  {
   "cell_type": "code",
   "execution_count": null,
   "metadata": {},
   "outputs": [],
   "source": []
  },
  {
   "cell_type": "code",
   "execution_count": null,
   "metadata": {},
   "outputs": [],
   "source": []
  },
  {
   "cell_type": "code",
   "execution_count": 89,
   "metadata": {},
   "outputs": [],
   "source": [
    "b = np.array([1,2])\n",
    "b1 = np.full((10,2),b)\n",
    "b2 = np.full((5,2),b)\n",
    "\n",
    "a1 = np.array([1,2,3,4,5])\n",
    "a2 = np.concatenate([a1,a1])\n"
   ]
  },
  {
   "cell_type": "code",
   "execution_count": 90,
   "metadata": {},
   "outputs": [
    {
     "data": {
      "text/plain": [
       "array([1, 2, 3, 4, 5, 1, 2, 3, 4, 5, 1, 2, 3, 4, 5])"
      ]
     },
     "execution_count": 90,
     "metadata": {},
     "output_type": "execute_result"
    }
   ],
   "source": [
    "np.concatenate(np.array([a1,a2]))"
   ]
  },
  {
   "cell_type": "code",
   "execution_count": 67,
   "metadata": {},
   "outputs": [],
   "source": [
    "a = np.array([1,2,3,4])"
   ]
  },
  {
   "cell_type": "code",
   "execution_count": 72,
   "metadata": {},
   "outputs": [],
   "source": [
    "b = np.column_stack([a,a,a])"
   ]
  },
  {
   "cell_type": "code",
   "execution_count": 77,
   "metadata": {},
   "outputs": [
    {
     "data": {
      "text/plain": [
       "1"
      ]
     },
     "execution_count": 77,
     "metadata": {},
     "output_type": "execute_result"
    }
   ],
   "source": [
    "len(np.atleast_1d(a[0]))"
   ]
  },
  {
   "cell_type": "code",
   "execution_count": 78,
   "metadata": {},
   "outputs": [
    {
     "data": {
      "text/plain": [
       "3"
      ]
     },
     "execution_count": 78,
     "metadata": {},
     "output_type": "execute_result"
    }
   ],
   "source": [
    "len(np.atleast_1d(b[0]))"
   ]
  },
  {
   "cell_type": "code",
   "execution_count": 24,
   "metadata": {},
   "outputs": [
    {
     "data": {
      "text/plain": [
       "(140, 3)"
      ]
     },
     "execution_count": 24,
     "metadata": {},
     "output_type": "execute_result"
    }
   ],
   "source": [
    "from seglearn.util import get_ts_data_parts\n",
    "\n",
    "Xt = np.array(data['X'])\n",
    "Xs = np.column_stack([data['side'], data['subject']])\n",
    "\n",
    "np.column_stack([Xt, Xs]).shape"
   ]
  },
  {
   "cell_type": "code",
   "execution_count": null,
   "metadata": {},
   "outputs": [],
   "source": [
    " "
   ]
  }
 ],
 "metadata": {
  "kernelspec": {
   "display_name": "Python 3",
   "language": "python",
   "name": "python3"
  },
  "language_info": {
   "codemirror_mode": {
    "name": "ipython",
    "version": 3
   },
   "file_extension": ".py",
   "mimetype": "text/x-python",
   "name": "python",
   "nbconvert_exporter": "python",
   "pygments_lexer": "ipython3",
   "version": "3.5.2"
  }
 },
 "nbformat": 4,
 "nbformat_minor": 2
}
