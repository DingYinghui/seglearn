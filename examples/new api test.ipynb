{
 "cells": [
  {
   "cell_type": "code",
   "execution_count": 1,
   "metadata": {},
   "outputs": [],
   "source": [
    "from seglearn.feature_functions import base_features, all_features, mean, var, std, skew\n",
    "from seglearn.transform import SegFeatures, Segment\n",
    "from seglearn.pipe import SegPipe\n",
    "from seglearn.datasets import load_watch\n",
    "from seglearn.util import make_ts_data, get_ts_data_parts\n",
    "\n",
    "import numpy as np\n",
    "from sklearn.pipeline import Pipeline\n",
    "from sklearn.ensemble import RandomForestClassifier\n",
    "from sklearn.model_selection import cross_validate, GridSearchCV\n",
    "import matplotlib.pyplot as plt"
   ]
  },
  {
   "cell_type": "code",
   "execution_count": 11,
   "metadata": {},
   "outputs": [
    {
     "name": "stdout",
     "output_type": "stream",
     "text": [
      "(1333, 6)\n"
     ]
    }
   ],
   "source": [
    "data = load_watch()\n",
    "#X = make_ts_data(data['X'], np.column_stack([data['side'],data['subject']]))\n",
    "\n",
    "# X = make_ts_data(data['X'],data['side'])\n",
    "X = make_ts_data(data['X'])\n",
    "print(X[0].shape)\n",
    "\n",
    "seg = Segment()\n",
    "X_new = seg.fit_transform(X)\n",
    "\n"
   ]
  },
  {
   "cell_type": "code",
   "execution_count": 13,
   "metadata": {},
   "outputs": [
    {
     "data": {
      "text/plain": [
       "(140,)"
      ]
     },
     "execution_count": 13,
     "metadata": {},
     "output_type": "execute_result"
    }
   ],
   "source": [
    "X_new.shape"
   ]
  },
  {
   "cell_type": "code",
   "execution_count": 43,
   "metadata": {},
   "outputs": [
    {
     "name": "stdout",
     "output_type": "stream",
     "text": [
      "(4677, 100, 6)\n",
      "float64\n"
     ]
    },
    {
     "data": {
      "text/plain": [
       "(100, 6)"
      ]
     },
     "execution_count": 43,
     "metadata": {},
     "output_type": "execute_result"
    }
   ],
   "source": [
    "Xte = np.array(np.concatenate(X_new))\n",
    "print(Xte.shape)\n",
    "print(Xte.dtype)\n",
    "Xte[0].shape"
   ]
  },
  {
   "cell_type": "code",
   "execution_count": 79,
   "metadata": {},
   "outputs": [
    {
     "data": {
      "text/plain": [
       "(4677, 5)"
      ]
     },
     "execution_count": 79,
     "metadata": {},
     "output_type": "execute_result"
    }
   ],
   "source": [
    "S1 = np.ones((len(Xte),5))\n",
    "S1.shape"
   ]
  },
  {
   "cell_type": "code",
   "execution_count": 87,
   "metadata": {},
   "outputs": [
    {
     "name": "stdout",
     "output_type": "stream",
     "text": [
      "(4677, 2)\n",
      "object\n"
     ]
    }
   ],
   "source": [
    "a=np.array([[Xte[i],S1[i]] for i in range(len(Xte))])\n",
    "print(a.shape)\n",
    "print(a.dtype)"
   ]
  },
  {
   "cell_type": "code",
   "execution_count": 85,
   "metadata": {},
   "outputs": [
    {
     "name": "stdout",
     "output_type": "stream",
     "text": [
      "(4677, 100, 6)\n",
      "float64\n"
     ]
    }
   ],
   "source": [
    "Xt = np.array([a[i,0] for i in range(len(a))])\n",
    "print(Xt.shape)\n",
    "print(Xt.dtype)"
   ]
  },
  {
   "cell_type": "code",
   "execution_count": 86,
   "metadata": {},
   "outputs": [
    {
     "name": "stdout",
     "output_type": "stream",
     "text": [
      "(4677, 5)\n",
      "float64\n"
     ]
    }
   ],
   "source": [
    "Xs = np.array([a[i,1] for i in range(len(a))])\n",
    "print(Xs.shape)\n",
    "print(Xs.dtype)"
   ]
  },
  {
   "cell_type": "code",
   "execution_count": null,
   "metadata": {},
   "outputs": [],
   "source": []
  }
 ],
 "metadata": {
  "kernelspec": {
   "display_name": "Python 3",
   "language": "python",
   "name": "python3"
  },
  "language_info": {
   "codemirror_mode": {
    "name": "ipython",
    "version": 3
   },
   "file_extension": ".py",
   "mimetype": "text/x-python",
   "name": "python",
   "nbconvert_exporter": "python",
   "pygments_lexer": "ipython3",
   "version": "3.5.2"
  }
 },
 "nbformat": 4,
 "nbformat_minor": 2
}
