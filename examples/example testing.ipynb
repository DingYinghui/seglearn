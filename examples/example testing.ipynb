{
 "cells": [
  {
   "cell_type": "code",
   "execution_count": 1,
   "metadata": {},
   "outputs": [],
   "source": [
    "from seglearn.features import SegFeatures, all_features, corr2\n",
    "from seglearn.pipe import SegPipe\n",
    "from seglearn.segment import Segment\n",
    "from seglearn.datasets import load_watch\n",
    "\n",
    "import numpy as np\n",
    "from sklearn.pipeline import Pipeline\n",
    "from sklearn.ensemble import RandomForestClassifier\n",
    "from sklearn.model_selection import cross_validate, GridSearchCV\n",
    "import matplotlib.pyplot as plt"
   ]
  },
  {
   "cell_type": "code",
   "execution_count": 2,
   "metadata": {},
   "outputs": [
    {
     "name": "stdout",
     "output_type": "stream",
     "text": [
      "dict_keys(['X_labels', 'y_labels', 'y', 'side', 'X', 'subject'])\n",
      "['skew_0', 'skew_1', 'skew_2', 'skew_3', 'skew_4', 'skew_5', 'mean_0', 'mean_1', 'mean_2', 'mean_3', 'mean_4', 'mean_5', 'var_0', 'var_1', 'var_2', 'var_3', 'var_4', 'var_5', 'corr_0', 'corr_1', 'corr_2', 'corr_3', 'corr_4', 'corr_5', 'corr_6', 'corr_7', 'corr_8', 'corr_9', 'corr_10', 'corr_11', 'corr_12', 'corr_13', 'corr_14', 'std_0', 'std_1', 'std_2', 'std_3', 'std_4', 'std_5', 'min_0', 'min_1', 'min_2', 'min_3', 'min_4', 'min_5', 'kurt_0', 'kurt_1', 'kurt_2', 'kurt_3', 'kurt_4', 'kurt_5', 'max_0', 'max_1', 'max_2', 'max_3', 'max_4', 'max_5', 'mnx_0', 'mnx_1', 'mnx_2', 'mnx_3', 'mnx_4', 'mnx_5', 'hist4_0', 'hist4_1', 'hist4_2', 'hist4_3', 'hist4_4', 'hist4_5', 'hist4_6', 'hist4_7', 'hist4_8', 'hist4_9', 'hist4_10', 'hist4_11', 'hist4_12', 'hist4_13', 'hist4_14', 'hist4_15', 'hist4_16', 'hist4_17', 'hist4_18', 'hist4_19', 'hist4_20', 'hist4_21', 'hist4_22', 'hist4_23', 'mse_0', 'mse_1', 'mse_2', 'mse_3', 'mse_4', 'mse_5']\n",
      "0.9989309386358777\n"
     ]
    }
   ],
   "source": [
    "data = load_watch()\n",
    "print(data.keys())\n",
    "\n",
    "fts = all_features()\n",
    "\n",
    "feed = Pipeline([('segment', Segment()),('features', SegFeatures(fts))])\n",
    "est = RandomForestClassifier()\n",
    "pipe = SegPipe(feed, est)\n",
    "y = data['y']\n",
    "X = data['X']\n",
    "\n",
    "pipe.fit(X, y)\n",
    "print(pipe.f_labels)\n",
    "ye, yp = pipe.predict(X, data['y'])\n",
    "print(pipe.score(X, data['y']))"
   ]
  },
  {
   "cell_type": "code",
   "execution_count": 1,
   "metadata": {},
   "outputs": [
    {
     "name": "stdout",
     "output_type": "stream",
     "text": [
      "{'total': {'Series_Time_Std': 8.757850351285423, 'N_TS_vars': 6, 'N_H_vars': 0, 'Series_Time_Range': (18.94, 52.36), 'Total_time': 4882.04, 'N_classes': 7, 'N_series': 140, 'Series_Time_Mean': 34.87171428571428}, 'by_class': {'Series_Time_Std': array([2.72084472, 8.0555543 , 8.77209872, 9.08521189, 7.98387775,\n",
      "       6.09925209, 5.95709997]), 'Series_Time_Min': array([21.28, 22.48, 22.3 , 19.4 , 21.3 , 19.26, 18.94]), 'Class_labels': array([0, 1, 2, 3, 4, 5, 6]), 'Series_Time_Max': array([31.1 , 49.1 , 50.84, 52.36, 49.24, 45.12, 38.66]), 'Total_Time': array([532.44, 798.1 , 809.96, 747.9 , 752.08, 611.56, 630.  ]), 'Series_Time_Mean': array([26.622, 39.905, 40.498, 37.395, 37.604, 30.578, 31.5  ]), 'N_series': array([20, 20, 20, 20, 20, 20, 20])}}\n",
      "0.9982895018174043\n"
     ]
    }
   ],
   "source": [
    "from seglearn.features import SegFeatures, mean, var, std, skew\n",
    "from seglearn.pipe import SegPipe\n",
    "from seglearn.segment import Segment\n",
    "from seglearn.datasets import load_watch\n",
    "from seglearn.util import check_ts_data, ts_stats\n",
    "from sklearn.pipeline import Pipeline\n",
    "from sklearn.ensemble import RandomForestClassifier\n",
    "import numpy as np\n",
    "data = load_watch()\n",
    "\n",
    "check_ts_data(data['X'])\n",
    "print(ts_stats(data['X'], data['y'], fs=50))\n",
    "\n",
    "fts = {'mean': mean, 'var': var, 'std': std, 'skew': skew}\n",
    "feed = Pipeline([('segment', Segment()),('features', SegFeatures(fts))])\n",
    "est = RandomForestClassifier()\n",
    "pipe = SegPipe(feed, est)\n",
    "pipe.fit(data['X'], data['y'])\n",
    "print(pipe.score(data['X'], data['y']))\n",
    "      "
   ]
  },
  {
   "cell_type": "code",
   "execution_count": 6,
   "metadata": {},
   "outputs": [
    {
     "name": "stdout",
     "output_type": "stream",
     "text": [
      "{'by_class': {'Class_labels': array([0, 1, 2, 3, 4, 5, 6]), 'Series_Time_Max': array([1555., 2455., 2542., 2618., 2462., 2256., 1933.]), 'Series_Time_Min': array([1064., 1124., 1115.,  970., 1065.,  963.,  947.]), 'Total_Time': array([26622., 39905., 40498., 37395., 37604., 30578., 31500.]), 'Series_Time_Std': array([136.04223609, 402.77771475, 438.60493613, 454.26059426,\n",
      "       399.19388773, 304.96260426, 297.85499828]), 'Series_Time_Mean': array([1331.1 , 1995.25, 2024.9 , 1869.75, 1880.2 , 1528.9 , 1575.  ]), 'N_series': array([20, 20, 20, 20, 20, 20, 20])}, 'total': {'Series_Time_Range': (947.0, 2618.0), 'N_H_vars': 0, 'Total_time': 244102.0, 'Series_Time_Std': 437.89251756427115, 'N_TS_vars': 1, 'N_classes': 7, 'Series_Time_Mean': 1743.5857142857142, 'N_series': 140}}\n",
      "0.9435535599743425\n",
      "['mean_0']\n"
     ]
    }
   ],
   "source": [
    "# univariate time series test and univariate feature test\n",
    "\n",
    "def uv(X):\n",
    "    X_new = [X[i][:,0] for i in np.arange(len(X))]\n",
    "    return X_new\n",
    "\n",
    "\n",
    "features = all_features()\n",
    "del features['corr']\n",
    "features = {'mean':mean}\n",
    "\n",
    "feed = Pipeline([('segment', Segment()),('features', SegFeatures(features=features))])\n",
    "est = RandomForestClassifier()\n",
    "pipe = SegPipe(feed, est)\n",
    "Xuv = uv(data['X'])\n",
    "\n",
    "check_ts_data(Xuv)\n",
    "print(ts_stats(Xuv, data['y']))\n",
    "\n",
    "pipe = SegPipe(feed, est)\n",
    "pipe.fit(Xuv, data['y'])\n",
    "print(pipe.score(Xuv, data['y']))\n",
    "print(pipe.f_labels)"
   ]
  },
  {
   "cell_type": "code",
   "execution_count": null,
   "metadata": {},
   "outputs": [],
   "source": [
    "np.mean()"
   ]
  },
  {
   "cell_type": "code",
   "execution_count": 3,
   "metadata": {},
   "outputs": [
    {
     "name": "stdout",
     "output_type": "stream",
     "text": [
      "0.9818259568099209\n"
     ]
    }
   ],
   "source": [
    "print(score)"
   ]
  },
  {
   "cell_type": "code",
   "execution_count": 15,
   "metadata": {},
   "outputs": [],
   "source": [
    "fts = all_features()"
   ]
  },
  {
   "cell_type": "code",
   "execution_count": 17,
   "metadata": {},
   "outputs": [],
   "source": [
    "all_features()"
   ]
  },
  {
   "cell_type": "code",
   "execution_count": 10,
   "metadata": {},
   "outputs": [
    {
     "name": "stdout",
     "output_type": "stream",
     "text": [
      "560\n"
     ]
    }
   ],
   "source": [
    "from seglearn.split import TemporalKFold\n",
    "from seglearn.datasets import load_watch\n",
    "data = load_watch()\n",
    "splitter = TemporalKFold(n_splits=4)\n",
    "X, y, cv = splitter.split(data['X'], data['y'])\n",
    "\n"
   ]
  },
  {
   "cell_type": "code",
   "execution_count": null,
   "metadata": {},
   "outputs": [],
   "source": []
  }
 ],
 "metadata": {
  "kernelspec": {
   "display_name": "Python 3",
   "language": "python",
   "name": "python3"
  },
  "language_info": {
   "codemirror_mode": {
    "name": "ipython",
    "version": 3
   },
   "file_extension": ".py",
   "mimetype": "text/x-python",
   "name": "python",
   "nbconvert_exporter": "python",
   "pygments_lexer": "ipython3",
   "version": "3.5.2"
  }
 },
 "nbformat": 4,
 "nbformat_minor": 2
}
