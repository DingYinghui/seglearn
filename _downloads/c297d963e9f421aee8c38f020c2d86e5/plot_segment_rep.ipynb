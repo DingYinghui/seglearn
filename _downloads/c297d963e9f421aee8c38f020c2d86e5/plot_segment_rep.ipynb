{
  "nbformat": 4,
  "cells": [
    {
      "cell_type": "code",
      "execution_count": null,
      "outputs": [],
      "metadata": {
        "collapsed": false
      },
      "source": [
        "%matplotlib inline"
      ]
    },
    {
      "cell_type": "markdown",
      "source": [
        "\n# Classifying Segments Directly with a Neural Network\n\n\nThis is a basic example using a convolutional recurrent neural network to learn segments directly from time series data\n\n\n"
      ],
      "metadata": {}
    },
    {
      "cell_type": "code",
      "execution_count": null,
      "outputs": [],
      "metadata": {
        "collapsed": false
      },
      "source": [
        "# Author: David Burns\n# License: BSD\n\nimport matplotlib.image as mpimg\nimport matplotlib.pyplot as plt\nfrom keras.layers import Dense, LSTM, Conv1D\nfrom keras.models import Sequential\nfrom keras.wrappers.scikit_learn import KerasClassifier\nfrom sklearn.model_selection import train_test_split\n\nfrom seglearn.datasets import load_watch\nfrom seglearn.pipe import Pype\nfrom seglearn.transform import SegmentX\n\n\ndef crnn_model(width=100, n_vars=6, n_classes=7, conv_kernel_size=5,\n               conv_filters=64, lstm_units=100):\n    input_shape = (width, n_vars)\n    model = Sequential()\n    model.add(Conv1D(filters=conv_filters, kernel_size=conv_kernel_size,\n                     padding='valid', activation='relu', input_shape=input_shape))\n    model.add(Conv1D(filters=conv_filters, kernel_size=conv_kernel_size,\n                     padding='valid', activation='relu'))\n    model.add(LSTM(units=lstm_units, dropout=0.1, recurrent_dropout=0.1))\n    model.add(Dense(n_classes, activation=\"softmax\"))\n\n    model.compile(loss='categorical_crossentropy', optimizer='adam',\n                  metrics=['accuracy'])\n\n    return model\n\n\n# load the data\ndata = load_watch()\nX = data['X']\ny = data['y']\n\n# create a segment learning pipeline\nwidth = 100\n\npipe = Pype([('seg', SegmentX()),\n             ('crnn', KerasClassifier(build_fn=crnn_model, epochs=10, batch_size=256, verbose=0))])\n\n# split the data\nX_train, X_test, y_train, y_test = train_test_split(X, y, test_size=0.25, random_state=42)\n\npipe.fit(X_train, y_train)\nscore = pipe.score(X_test, y_test)\n\nprint(\"N series in train: \", len(X_train))\nprint(\"N series in test: \", len(X_test))\nprint(\"N segments in train: \", pipe.N_train)\nprint(\"N segments in test: \", pipe.N_test)\nprint(\"Accuracy score: \", score)\n\nimg = mpimg.imread('segments.jpg')\nplt.imshow(img)"
      ]
    }
  ],
  "metadata": {
    "language_info": {
      "name": "python",
      "pygments_lexer": "ipython3",
      "version": "3.5.2",
      "mimetype": "text/x-python",
      "nbconvert_exporter": "python",
      "codemirror_mode": {
        "name": "ipython",
        "version": 3
      },
      "file_extension": ".py"
    },
    "kernelspec": {
      "name": "python3",
      "display_name": "Python 3",
      "language": "python"
    }
  },
  "nbformat_minor": 0
}