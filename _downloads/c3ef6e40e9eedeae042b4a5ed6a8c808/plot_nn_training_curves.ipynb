{
  "nbformat": 4,
  "cells": [
    {
      "cell_type": "code",
      "execution_count": null,
      "outputs": [],
      "metadata": {
        "collapsed": false
      },
      "source": [
        "%matplotlib inline"
      ]
    },
    {
      "cell_type": "markdown",
      "source": [
        "\n# Plotting Neural Network Training Curves\n\n\nThis is a basic example using a convolutional recurrent neural network to learn segments directly from time series data\n\n\n"
      ],
      "metadata": {}
    },
    {
      "cell_type": "code",
      "execution_count": null,
      "outputs": [],
      "metadata": {
        "collapsed": false
      },
      "source": [
        "# Author: David Burns\n# License: BSD\n\nimport matplotlib.pyplot as plt\nimport numpy as np\nfrom keras.layers import Dense, LSTM, Conv1D\nfrom keras.models import Sequential\nfrom keras.wrappers.scikit_learn import KerasClassifier\nfrom pandas import DataFrame\nfrom sklearn.model_selection import train_test_split\n\nfrom seglearn.datasets import load_watch\nfrom seglearn.pipe import Pype\nfrom seglearn.transform import SegmentX"
      ]
    },
    {
      "cell_type": "markdown",
      "source": [
        "Simple NN Model\n#############################################\n\n"
      ],
      "metadata": {}
    },
    {
      "cell_type": "code",
      "execution_count": null,
      "outputs": [],
      "metadata": {
        "collapsed": false
      },
      "source": [
        "def crnn_model(width=100, n_vars=6, n_classes=7, conv_kernel_size=5,\n               conv_filters=64, lstm_units=100):\n    input_shape = (width, n_vars)\n    model = Sequential()\n    model.add(Conv1D(filters=conv_filters, kernel_size=conv_kernel_size,\n                     padding='valid', activation='relu', input_shape=input_shape))\n    model.add(Conv1D(filters=conv_filters, kernel_size=conv_kernel_size,\n                     padding='valid', activation='relu'))\n    model.add(LSTM(units=lstm_units, dropout=0.1, recurrent_dropout=0.1))\n    model.add(Dense(n_classes, activation=\"softmax\"))\n\n    model.compile(loss='categorical_crossentropy', optimizer='adam',\n                  metrics=['accuracy'])\n\n    return model"
      ]
    },
    {
      "cell_type": "markdown",
      "source": [
        "Setup\n#############################################\n\n"
      ],
      "metadata": {}
    },
    {
      "cell_type": "code",
      "execution_count": null,
      "outputs": [],
      "metadata": {
        "collapsed": false
      },
      "source": [
        "# load the data\ndata = load_watch()\nX = data['X']\ny = data['y']\n\n# split the data\nX_train, X_test, y_train, y_test = train_test_split(X, y, test_size=0.25, random_state=42)\n\n# create a segment learning pipeline\nwidth = 100\npipe = Pype([('seg', SegmentX()),\n             ('crnn', KerasClassifier(build_fn=crnn_model, epochs=10, batch_size=256,\n                                      verbose=0, validation_split=0.2))])"
      ]
    },
    {
      "cell_type": "markdown",
      "source": [
        "Accessing training history\n#############################################\n\n"
      ],
      "metadata": {}
    },
    {
      "cell_type": "code",
      "execution_count": null,
      "outputs": [],
      "metadata": {
        "collapsed": false
      },
      "source": [
        "# this is a bit of a hack, because history object is returned by the\n# keras wrapper when fit is called\n# this approach won't work with a more complex estimator pipeline, in which case\n# a callable class with the desired properties should be made passed to build_fn\n\npipe.fit(X_train, y_train)\nprint(DataFrame(pipe.history.history))\nac_train = pipe.history.history['acc']\nac_val = pipe.history.history['val_acc']\nepoch = np.arange(len(ac_train)) + 1"
      ]
    },
    {
      "cell_type": "markdown",
      "source": [
        "Training Curves\n#############################################\n\n"
      ],
      "metadata": {}
    },
    {
      "cell_type": "code",
      "execution_count": null,
      "outputs": [],
      "metadata": {
        "collapsed": false
      },
      "source": [
        "plt.plot(epoch, ac_train, 'o', label=\"train\")\nplt.plot(epoch, ac_val, '+', label=\"validation\")\nplt.xlabel(\"Epoch\")\nplt.ylabel(\"Accuracy\")\nplt.legend()\nplt.show()"
      ]
    }
  ],
  "metadata": {
    "language_info": {
      "name": "python",
      "pygments_lexer": "ipython3",
      "version": "3.5.2",
      "mimetype": "text/x-python",
      "nbconvert_exporter": "python",
      "codemirror_mode": {
        "name": "ipython",
        "version": 3
      },
      "file_extension": ".py"
    },
    "kernelspec": {
      "name": "python3",
      "display_name": "Python 3",
      "language": "python"
    }
  },
  "nbformat_minor": 0
}