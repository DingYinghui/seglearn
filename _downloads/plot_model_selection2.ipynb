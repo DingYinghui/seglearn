{
  "nbformat_minor": 0, 
  "nbformat": 4, 
  "cells": [
    {
      "execution_count": null, 
      "cell_type": "code", 
      "source": [
        "%matplotlib inline"
      ], 
      "outputs": [], 
      "metadata": {
        "collapsed": false
      }
    }, 
    {
      "source": [
        "\n# Hyperparameter Selection 2\n\n\nThis example demonstrates how to do model selection in a pipeline where segments are learned directly by a neural network\n\n"
      ], 
      "cell_type": "markdown", 
      "metadata": {}
    }, 
    {
      "execution_count": null, 
      "cell_type": "code", 
      "source": [
        "# Author: David Burns\n# License: BSD\n\nfrom seglearn.pipe import Pype\nfrom seglearn.transform import SegmentX\nfrom seglearn.datasets import load_watch\nfrom seglearn.split import TemporalKFold\n\nfrom sklearn.model_selection import GridSearchCV\nfrom keras.layers import Dense, LSTM, Conv1D\nfrom keras.models import Sequential\nfrom keras.wrappers.scikit_learn import KerasClassifier\n\nimport matplotlib.pyplot as plt\n\ndef crnn_model(width=100, n_vars=6, n_classes=7, conv_kernel_size=5,\n               conv_filters=64, lstm_units=100):\n    # create a crnn model with keras with two cnn layers, and one rnn layer\n    input_shape = (width, n_vars)\n    model = Sequential()\n    model.add(Conv1D(filters=conv_filters, kernel_size=conv_kernel_size,\n                     padding='valid', activation='relu', input_shape=input_shape))\n    model.add(Conv1D(filters=conv_filters, kernel_size=conv_kernel_size,\n                     padding='valid', activation='relu'))\n    model.add(LSTM(units=lstm_units, dropout=0.1, recurrent_dropout=0.1))\n    model.add(Dense(n_classes, activation=\"softmax\"))\n\n    model.compile(loss='categorical_crossentropy', optimizer='adam', metrics=['accuracy'])\n\n    return model\n\n\n# load the data\ndata = load_watch()\nX = data['X']\ny = data['y']\n\n# temporal splitting of data\nsplitter = TemporalKFold(n_splits=3)\nXs, ys, cv = splitter.split(X,y)\n\n# create a segment learning pipeline\nwidth = 100\npipe = Pype([('seg', SegmentX()),\n             ('crnn', KerasClassifier(build_fn=crnn_model, epochs = 5, batch_size = 256, verbose = 0))])\n\n# create a parameter dictionary using the sklearn API\n#\n# you can also set a parameter to be always equal to another parameter, by setting its value to\n# parameter name to track (this is an extension from sklearn)\n#\n# note that if you want to set a parameter to a single value, it will still need to be as a list\n\npar_grid = {'seg__width' : [50,100,200],\n            'seg__overlap' : [0.],\n            'crnn__width' : ['seg__width']}\n\nclf = GridSearchCV(pipe, par_grid, cv=cv)\nclf.fit(Xs, ys)\nscores = clf.cv_results_['mean_test_score']\nstds = clf.cv_results_['std_test_score']\n\nplt.plot(par_grid['seg__width'], scores, '-o')\nplt.title(\"Grid Search Scores\")\nplt.xlabel(\"Width [s]\")\nplt.ylabel(\"CV Average Score\")\nplt.fill_between(par_grid['seg__width'], scores - stds, scores + stds, alpha=0.2, color = 'navy')\nplt.show()"
      ], 
      "outputs": [], 
      "metadata": {
        "collapsed": false
      }
    }
  ], 
  "metadata": {
    "kernelspec": {
      "display_name": "Python 2", 
      "name": "python2", 
      "language": "python"
    }, 
    "language_info": {
      "mimetype": "text/x-python", 
      "nbconvert_exporter": "python", 
      "name": "python", 
      "file_extension": ".py", 
      "version": "2.7.11", 
      "pygments_lexer": "ipython2", 
      "codemirror_mode": {
        "version": 2, 
        "name": "ipython"
      }
    }
  }
}