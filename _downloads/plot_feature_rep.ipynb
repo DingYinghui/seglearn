{
  "nbformat_minor": 0, 
  "nbformat": 4, 
  "cells": [
    {
      "execution_count": null, 
      "cell_type": "code", 
      "source": [
        "%matplotlib inline"
      ], 
      "outputs": [], 
      "metadata": {
        "collapsed": false
      }
    }, 
    {
      "source": [
        "\n# Basic Feature Representation Classification Pipeline\n\n\nThis is a basic example using the pipeline to learn a feature representation of the time series data\n\n\n"
      ], 
      "cell_type": "markdown", 
      "metadata": {}
    }, 
    {
      "execution_count": null, 
      "cell_type": "code", 
      "source": [
        "# Author: David Burns\n# License: BSD\n\nfrom seglearn.datasets import load_watch\nfrom seglearn.transform import FeatureRep, SegmentX\nfrom seglearn.pipe import Pype\nfrom seglearn.base import TS_Data\n\nfrom sklearn.ensemble import RandomForestClassifier\nfrom sklearn.preprocessing import StandardScaler\nfrom sklearn.model_selection import train_test_split, cross_validate\nfrom sklearn.metrics import f1_score, make_scorer\n\nimport matplotlib.image as mpimg\nimport matplotlib.pyplot as plt\n\nimport numpy as np\nimport pandas as pd\n\n# seed RNGESUS\nnp.random.seed(123124)\n\n# load the data\ndata = load_watch()\nX = data['X']\ny = data['y']\n\n# create a feature representation pipeline\nclf = Pype([('segment', SegmentX()),\n            ('features', FeatureRep()),\n            ('scaler', StandardScaler()),\n            ('rf', RandomForestClassifier())])\n\n# split the data\nX_train, X_test, y_train, y_test = train_test_split(X, y, test_size=0.25)\n\nclf.fit(X_train,y_train)\nscore = clf.score(X_test, y_test)\n\nprint(\"N series in train: \", len(X_train))\nprint(\"N series in test: \", len(X_test))\nprint(\"N segments in train: \", clf.N_train)\nprint(\"N segments in test: \", clf.N_test)\nprint(\"Accuracy score: \", score)\n\n# now lets add some contextual data\nXc = np.column_stack((data['side'], data['subject']))\nXt = np.array(data['X'])\nX = TS_Data(Xt, Xc)\ny = np.array(data['y'])\n\n# and do a cross validation\nscoring = make_scorer(f1_score, average = 'macro')\ncv_scores = cross_validate(clf, X, y, cv = 4, return_train_score=True)\nprint(\"CV Scores: \", pd.DataFrame(cv_scores))\n\n# lets see what feature we used\nprint(\"Features: \", clf.steps[1][1].f_labels)\n\nimg = mpimg.imread('feet.jpg')\nplt.imshow(img)"
      ], 
      "outputs": [], 
      "metadata": {
        "collapsed": false
      }
    }
  ], 
  "metadata": {
    "kernelspec": {
      "display_name": "Python 2", 
      "name": "python2", 
      "language": "python"
    }, 
    "language_info": {
      "mimetype": "text/x-python", 
      "nbconvert_exporter": "python", 
      "name": "python", 
      "file_extension": ".py", 
      "version": "2.7.11", 
      "pygments_lexer": "ipython2", 
      "codemirror_mode": {
        "version": 2, 
        "name": "ipython"
      }
    }
  }
}