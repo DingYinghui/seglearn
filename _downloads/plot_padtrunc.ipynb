{
  "nbformat_minor": 0, 
  "nbformat": 4, 
  "cells": [
    {
      "execution_count": null, 
      "cell_type": "code", 
      "source": [
        "%matplotlib inline"
      ], 
      "outputs": [], 
      "metadata": {
        "collapsed": false
      }
    }, 
    {
      "source": [
        "\n# Pipeline using Time Series Padding and Truncation\n\n\nThis is a basic example using the pipeline to learn a feature representation of the time series data\nusing padding and truncation instead of sliding window segmentation.\n\n\n"
      ], 
      "cell_type": "markdown", 
      "metadata": {}
    }, 
    {
      "execution_count": null, 
      "cell_type": "code", 
      "source": [
        "# Author: David Burns\n# License: BSD\n\n\nfrom seglearn.transform import FeatureRep, PadTrunc\nfrom seglearn.pipe import SegPipe\nfrom seglearn.datasets import load_watch\n\nfrom sklearn.pipeline import Pipeline\nfrom sklearn.preprocessing import StandardScaler\nfrom sklearn.model_selection import train_test_split\nfrom sklearn.svm import LinearSVC\n\nimport matplotlib.image as mpimg\nimport matplotlib.pyplot as plt\n\nimport numpy as np\n\n# load the data\ndata = load_watch()\nX = data['X']\ny = data['y']\n\n# create a feature representation pipeline with PadTrunc segmentation\n# the time series are between 20-40 seconds\n# this truncates them all to the first 5 seconds (sampling rate is 50 Hz)\ntruncator = PadTrunc(width = 250)\n\nestimator = Pipeline([('features', FeatureRep()),\n                 ('scaler', StandardScaler()),\n                 ('svc', LinearSVC())])\n\n# although optional, this shows how to set the RNG seed for SegPipe using random_state\npipe = SegPipe(est = estimator, segmenter = truncator, shuffle=True, random_state=42)\n\n# split the data\nX_train, X_test, y_train, y_test = train_test_split(X, y, test_size=0.25, shuffle=True, random_state=42)\n\npipe.fit(X_train,y_train)\nscore = pipe.score(X_test, y_test)\n\nprint(\"N series in train: \", len(X_train))\nprint(\"N series in test: \", len(X_test))\nprint(\"N segments in train: \", pipe.N_train)\nprint(\"N segments in test: \", pipe.N_test)\nprint(\"Accuracy score: \", score)\n\nimg = mpimg.imread('trunk.jpg')\nplt.imshow(img)"
      ], 
      "outputs": [], 
      "metadata": {
        "collapsed": false
      }
    }
  ], 
  "metadata": {
    "kernelspec": {
      "display_name": "Python 2", 
      "name": "python2", 
      "language": "python"
    }, 
    "language_info": {
      "mimetype": "text/x-python", 
      "nbconvert_exporter": "python", 
      "name": "python", 
      "file_extension": ".py", 
      "version": "2.7.11", 
      "pygments_lexer": "ipython2", 
      "codemirror_mode": {
        "version": 2, 
        "name": "ipython"
      }
    }
  }
}