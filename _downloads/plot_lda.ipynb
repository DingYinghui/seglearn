{
  "nbformat_minor": 0, 
  "nbformat": 4, 
  "cells": [
    {
      "execution_count": null, 
      "cell_type": "code", 
      "source": [
        "%matplotlib inline"
      ], 
      "outputs": [], 
      "metadata": {
        "collapsed": false
      }
    }, 
    {
      "source": [
        "\n# Linear Discriminant Analysis\n\n\nThis example demonstrates how the pipeline can be used to perform transformation of time series data, such as linear discriminant analysis for visualization purposes\n\n"
      ], 
      "cell_type": "markdown", 
      "metadata": {}
    }, 
    {
      "execution_count": null, 
      "cell_type": "code", 
      "source": [
        "# Author: David Burns\n# License: BSD\n\nimport seglearn as sgl\n\nfrom sklearn.pipeline import Pipeline\nfrom sklearn.discriminant_analysis import LinearDiscriminantAnalysis\nimport numpy as np\nimport matplotlib.pyplot as plt\n\ndef plot_embedding(emb, y, y_labels):\n    # plot a 2D feature map embedding\n    x_min, x_max = np.min(emb, 0), np.max(emb, 0)\n    emb = (emb - x_min) / (x_max - x_min)\n\n    NC = len(y_labels)\n    markers = ['.','+','x','|','_','*','o']\n\n    fig = plt.figure()\n    fig.set_size_inches(6,6)\n\n    for c in range(NC):\n        i = y == c\n        plt.scatter(emb[i, 0], emb[i, 1], marker=markers[c], label = y_labels[c])\n\n    plt.xticks([]), plt.yticks([])\n    plt.legend()\n    plt.tight_layout()\n\n# load the data\ndata = sgl.load_watch()\nX = sgl.make_ts_data(data['X'])\ny = data['y']\n\n# create a pipeline for LDA transformation of the feature representation\nest = Pipeline([ ('ftr', sgl.FeatureRep()),\n    ('lda', LinearDiscriminantAnalysis(n_components=2))])\n\npipe = sgl.SegPipe(est)\nX2, y2 = pipe.fit_transform(X, y)\nplot_embedding(X2, y2.astype(int), data['y_labels'])\nplt.show()"
      ], 
      "outputs": [], 
      "metadata": {
        "collapsed": false
      }
    }
  ], 
  "metadata": {
    "kernelspec": {
      "display_name": "Python 2", 
      "name": "python2", 
      "language": "python"
    }, 
    "language_info": {
      "mimetype": "text/x-python", 
      "nbconvert_exporter": "python", 
      "name": "python", 
      "file_extension": ".py", 
      "version": "2.7.11", 
      "pygments_lexer": "ipython2", 
      "codemirror_mode": {
        "version": 2, 
        "name": "ipython"
      }
    }
  }
}