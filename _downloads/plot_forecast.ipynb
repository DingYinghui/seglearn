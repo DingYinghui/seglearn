{
  "nbformat_minor": 0, 
  "nbformat": 4, 
  "cells": [
    {
      "execution_count": null, 
      "cell_type": "code", 
      "source": [
        "%matplotlib inline"
      ], 
      "outputs": [], 
      "metadata": {
        "collapsed": false
      }
    }, 
    {
      "source": [
        "\n# Time Series Forecasting\n\n\nIn this example, we use a feature representation pipeline to forecast a continuous time series\ntarget with a regressor.\n\nIn this example, we train the algorithm from the features and targets in the training set.\nThen predict (future segments) from the features in the test set.\n\nWe do not sequentially retrain the algorithm as we move through the test set - which is an\napproach you will sometimes see with time series forecasting (and which may or may not be\nuseful in your application).\n\n\n"
      ], 
      "cell_type": "markdown", 
      "metadata": {}
    }, 
    {
      "execution_count": null, 
      "cell_type": "code", 
      "source": [
        "# Author: David Burns\n# License: BSD\n\n\nfrom seglearn.transform import FeatureRep, SegmentXY, mean\nfrom seglearn.pipe import SegPipe\nfrom seglearn.split import temporal_split\n\nfrom sklearn.pipeline import Pipeline\nfrom sklearn.linear_model import LinearRegression\n\nimport matplotlib.pyplot as plt\n\nimport numpy as np\n\n# remember for a single time series, we need to make it a list\nX = [np.arange(5000)/100.]\ny = [np.sin(X[0])*X[0]*2.5 + X[0]*X[0]]\n\n# split the data along the time axis (our only option since we have only 1 time series)\nX_train, X_test, y_train, y_test = temporal_split(X, y, test_size=0.25)\n\n# create a feature representation pipeline\nest = Pipeline([('features', FeatureRep()),\n                ('lin', LinearRegression())])\n\n# setting y_func = mean, selects the mean from each y segment as the target\n# forecast = 8 with overlap 0.5 means we are predicting 4 segments ahead (800 time points)\n# see the API documentation for further details\nsegmenter = SegmentXY(width = 200, overlap=0.5, y_func=mean, forecast=8)\npipe = SegPipe(est, segmenter)\n\n# fit and score\npipe.fit(X_train,y_train)\nscore = pipe.score(X_test, y_test)\n\nprint(\"N series in train: \", len(X_train))\nprint(\"N series in test: \", len(X_test))\nprint(\"N segments in train: \", pipe.N_train)\nprint(\"N segments in test: \", pipe.N_test)\nprint(\"Score: \", score)\n\n# generate some predictions\ny, y_p = pipe.predict(X, y) # all predictions\nytr, ytr_p = pipe.predict(X_train, y_train) # training predictions\nyte, yte_p = pipe.predict(X_test, y_test) # test predictions\n\n# for demonstration, we'll use the complete prediction set\n# to avoid a discontinuity in the plot\ny = y[len(ytr):len(y)]\ny_p = y_p[len(ytr):len(y_p)]\nxtr = np.arange(len(ytr)) # segment number\nx = np.arange(len(y)) + len(xtr)\n\n# plot the results\nplt.plot(xtr, ytr, '.', label = \"training\")\nplt.plot(x, y, '.', label =\"actual\")\nplt.plot(x, y_p, label =\"predicted\")\nplt.xlabel(\"Segment Number\")\nplt.ylabel(\"Target\")\nplt.legend()\nplt.show()"
      ], 
      "outputs": [], 
      "metadata": {
        "collapsed": false
      }
    }
  ], 
  "metadata": {
    "kernelspec": {
      "display_name": "Python 2", 
      "name": "python2", 
      "language": "python"
    }, 
    "language_info": {
      "mimetype": "text/x-python", 
      "nbconvert_exporter": "python", 
      "name": "python", 
      "file_extension": ".py", 
      "version": "2.7.11", 
      "pygments_lexer": "ipython2", 
      "codemirror_mode": {
        "version": 2, 
        "name": "ipython"
      }
    }
  }
}