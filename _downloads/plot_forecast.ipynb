{
  "nbformat_minor": 0, 
  "nbformat": 4, 
  "cells": [
    {
      "execution_count": null, 
      "cell_type": "code", 
      "source": [
        "%matplotlib inline"
      ], 
      "outputs": [], 
      "metadata": {
        "collapsed": false
      }
    }, 
    {
      "source": [
        "\n# Time Series Forecasting\n\n\nIn this example, we use a feature representation pipeline to forecast a continuous time series\ntarget with a regressor\n\n\n"
      ], 
      "cell_type": "markdown", 
      "metadata": {}
    }, 
    {
      "execution_count": null, 
      "cell_type": "code", 
      "source": [
        "# Author: David Burns\n# License: BSD\n\n\nfrom seglearn.transform import FeatureRep, SegmentXY, mean\nfrom seglearn.pipe import SegPipe\nfrom seglearn.split import temporal_split, TemporalKFold\n\nfrom sklearn.pipeline import Pipeline\nfrom sklearn.linear_model import Ridge\nfrom sklearn.preprocessing import StandardScaler\n\nimport matplotlib.pyplot as plt\n\nimport numpy as np\n\n# remember for a single time series, we need to make it a list\nX = [np.arange(5000)/100.]\ny = [np.sin(X[0])*X[0]+X[0]*X[0]]\n\n# split the data along the time axis (our only option since we have only 1 time series)\nX_train, X_test, y_train, y_test = temporal_split(X, y)\n\n# create a feature representation pipeline\nest = Pipeline([('features', FeatureRep()),\n                ('scaler', StandardScaler()),\n                ('rf', Ridge())])\n\n# setting y_func = mean, selects the mean from each y segment as the target\n# forecast 8 with overlap 0.5 means we are predicting 4 segments ahead (200 time points)\n# see the API documentation for further details\nsegmenter = SegmentXY(width = 50, overlap=0.5, y_func=mean, forecast=8)\npipe = SegPipe(est, segmenter)\n\n# fit and score\npipe.fit(X_train,y_train)\nscore = pipe.score(X_test, y_test)\n\nprint(\"N series in train: \", len(X_train))\nprint(\"N series in test: \", len(X_test))\nprint(\"N segments in train: \", pipe.N_train)\nprint(\"N segments in test: \", pipe.N_test)\nprint(\"Score: \", score)\n\n# lets plot the amazing results\nytr, ytrp = pipe.predict(X_train, y_train) # get the training targets\ny, y_p = pipe.predict(X_test, y_test) # get test targets\nxtr = np.arange(len(ytr)) # segment number\nxte = np.arange(len(y)) + len(xtr)\n\n# note there will be a gap due to discarded data in the test set\nplt.plot(xtr, ytr, '.', label = \"training\")\nplt.plot(xte, y, '.', label = \"actual\")\nplt.plot(xte, y, label = \"predicted\")\nplt.xlabel(\"Segment Number\")\nplt.ylabel(\"Target\")\nplt.legend()\nplt.show()"
      ], 
      "outputs": [], 
      "metadata": {
        "collapsed": false
      }
    }
  ], 
  "metadata": {
    "kernelspec": {
      "display_name": "Python 2", 
      "name": "python2", 
      "language": "python"
    }, 
    "language_info": {
      "mimetype": "text/x-python", 
      "nbconvert_exporter": "python", 
      "name": "python", 
      "file_extension": ".py", 
      "version": "2.7.11", 
      "pygments_lexer": "ipython2", 
      "codemirror_mode": {
        "version": 2, 
        "name": "ipython"
      }
    }
  }
}