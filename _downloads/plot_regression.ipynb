{
  "nbformat_minor": 0, 
  "nbformat": 4, 
  "cells": [
    {
      "execution_count": null, 
      "cell_type": "code", 
      "source": [
        "%matplotlib inline"
      ], 
      "outputs": [], 
      "metadata": {
        "collapsed": false
      }
    }, 
    {
      "source": [
        "\n# Continuous Target and Time Series Regression\n\n\nIn this example, we use the pipeline to learn a continuous time series target with a regressor\n\n\n"
      ], 
      "cell_type": "markdown", 
      "metadata": {}
    }, 
    {
      "execution_count": null, 
      "cell_type": "code", 
      "source": [
        "# Author: David Burns\n# License: BSD\n\n\nfrom seglearn.transform import FeatureRep, SegmentXY, last\nfrom seglearn.pipe import SegPipe\nfrom seglearn.split import temporal_split, TemporalKFold\n\nfrom sklearn.pipeline import Pipeline\nfrom sklearn.linear_model import Ridge\nfrom sklearn.preprocessing import StandardScaler\nfrom sklearn.model_selection import cross_validate\n\nimport matplotlib.pyplot as plt\n\nimport numpy as np\nimport pandas as pd\n\n# for a single time series, we need to make it a list\nX = [np.arange(4000)/100.]\ny = [np.sin(X[0])]\n\n# split the data along the time axis (our only option since we have only 1 time series)\nX_train, X_test, y_train, y_test = temporal_split(X, y)\n\n# create a feature representation pipeline\nest = Pipeline([('features', FeatureRep()),\n                ('scaler', StandardScaler()),\n                ('rf', Ridge())])\n\n# SegmentXY segments both X and y (as the name implies)\n# setting y_func = last, selects the last value from each y segment as the target\n# other options include transform.middle, or you can make your own function\n# see the API documentation for further details\nsegmenter = SegmentXY(width = 20, overlap=0.5, y_func=last)\npipe = SegPipe(est, segmenter)\n\n# fit and score\npipe.fit(X_train,y_train)\nscore = pipe.score(X_test, y_test)\n\nprint(\"N series in train: \", len(X_train))\nprint(\"N series in test: \", len(X_test))\nprint(\"N segments in train: \", pipe.N_train)\nprint(\"N segments in test: \", pipe.N_test)\nprint(\"Score: \", score)\n\n# lets plot the amazing results\ny, y_p = pipe.predict(X_test, y_test)\nx = np.arange(len(y))\nplt.plot(x, y, '.', label = \"actual\")\nplt.plot(x, y, label = \"predicted\")\nplt.legend()\n\n# now try a cross validation\nX = [np.arange(4000)/100.]\ny = [np.sin(X[0])]\n\ntkf = TemporalKFold()\nX, y, cv = tkf.split(X, y)\ncv_scores = cross_validate(pipe, X, y, cv = cv, return_train_score=True)\nprint(\"CV Scores: \", pd.DataFrame(cv_scores))"
      ], 
      "outputs": [], 
      "metadata": {
        "collapsed": false
      }
    }
  ], 
  "metadata": {
    "kernelspec": {
      "display_name": "Python 2", 
      "name": "python2", 
      "language": "python"
    }, 
    "language_info": {
      "mimetype": "text/x-python", 
      "nbconvert_exporter": "python", 
      "name": "python", 
      "file_extension": ".py", 
      "version": "2.7.11", 
      "pygments_lexer": "ipython2", 
      "codemirror_mode": {
        "version": 2, 
        "name": "ipython"
      }
    }
  }
}