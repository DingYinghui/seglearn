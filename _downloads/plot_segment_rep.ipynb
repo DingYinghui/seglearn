{
  "nbformat_minor": 0, 
  "nbformat": 4, 
  "cells": [
    {
      "execution_count": null, 
      "cell_type": "code", 
      "source": [
        "%matplotlib inline"
      ], 
      "outputs": [], 
      "metadata": {
        "collapsed": false
      }
    }, 
    {
      "source": [
        "\n# Classifying Segments Directly with a Neural Network\n\n\nThis is a basic example using a convolutional recurrent neural network to learn segments directly from time series data\n\n\n"
      ], 
      "cell_type": "markdown", 
      "metadata": {}
    }, 
    {
      "execution_count": null, 
      "cell_type": "code", 
      "source": [
        "# Author: David Burns\n# License: BSD\n\nfrom seglearn.pipe import SegPipe\nfrom seglearn.datasets import load_watch\nfrom seglearn.util import make_ts_data\n\nfrom sklearn.model_selection import train_test_split\nfrom keras.layers import Dense, LSTM, Conv1D\nfrom keras.models import Sequential\nfrom keras.wrappers.scikit_learn import KerasClassifier\nimport matplotlib.image as mpimg\nimport matplotlib.pyplot as plt\n\n\ndef crnn_model(width=100, n_vars=6, n_classes=7, conv_kernel_size=5,\n               conv_filters=64, lstm_units=100):\n    input_shape = (width, n_vars)\n    model = Sequential()\n    model.add(Conv1D(filters=conv_filters, kernel_size=conv_kernel_size,\n                     padding='valid', activation='relu', input_shape=input_shape))\n    model.add(Conv1D(filters=conv_filters, kernel_size=conv_kernel_size,\n                     padding='valid', activation='relu'))\n    model.add(LSTM(units=lstm_units, dropout=0.1, recurrent_dropout=0.1))\n    model.add(Dense(n_classes, activation=\"softmax\"))\n\n    model.compile(loss='categorical_crossentropy', optimizer='adam',\n                  metrics=['accuracy'])\n\n    return model\n\n\n# load the data\ndata = load_watch()\nX = make_ts_data(data['X'])\ny = data['y']\n\n# create a segment learning pipeline\nwidth = 100\nest = KerasClassifier(build_fn=crnn_model, epochs = 10, batch_size = 256, verbose = 0)\npipe = SegPipe(est)\n\n# split the data\nX_train, X_test, y_train, y_test = train_test_split(X, y, test_size=0.25, random_state=42)\n\npipe.fit(X_train,y_train)\nscore = pipe.score(X_test, y_test)\n\nprint(\"N series in train: \", len(X_train))\nprint(\"N series in test: \", len(X_test))\nprint(\"N segments in train: \", pipe.N_train)\nprint(\"N segments in test: \", pipe.N_test)\nprint(\"Accuracy score: \", score)\n\n\nimg = mpimg.imread('segments.jpg')\nplt.imshow(img)"
      ], 
      "outputs": [], 
      "metadata": {
        "collapsed": false
      }
    }
  ], 
  "metadata": {
    "kernelspec": {
      "display_name": "Python 2", 
      "name": "python2", 
      "language": "python"
    }, 
    "language_info": {
      "mimetype": "text/x-python", 
      "nbconvert_exporter": "python", 
      "name": "python", 
      "file_extension": ".py", 
      "version": "2.7.11", 
      "pygments_lexer": "ipython2", 
      "codemirror_mode": {
        "version": 2, 
        "name": "ipython"
      }
    }
  }
}